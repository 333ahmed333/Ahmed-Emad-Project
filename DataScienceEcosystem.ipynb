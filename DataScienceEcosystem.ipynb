{
 "cells": [
  {
   "cell_type": "markdown",
   "id": "87ac97a2-4bb7-44eb-87e5-564271a11022",
   "metadata": {
    "tags": []
   },
   "source": [
    "# Data Science Tools and Ecosystem "
   ]
  },
  {
   "cell_type": "markdown",
   "id": "b27924d1-8122-4583-be43-108b1280fbda",
   "metadata": {},
   "source": [
    "In this notebook, Data science Tools and Ecosystem are "
   ]
  },
  {
   "cell_type": "markdown",
   "id": "bbd4102d-484e-4883-bf85-6de5d0aa87ed",
   "metadata": {},
   "source": [
    "some of the popular languages that Data scientists use are:\n",
    "<ol><li>R</li><li>Python</li><li>Julia</li>\n",
    "\n"
   ]
  },
  {
   "cell_type": "markdown",
   "id": "9b99d600-066d-4402-80be-ea08975a9223",
   "metadata": {},
   "source": [
    "Some of the commonly used libraries sued by Data scientists include:\n",
    "<ol><li>pandas</li><li>matplotlib</li><li>scikit learn</li>\n"
   ]
  },
  {
   "cell_type": "markdown",
   "id": "afb4e724-3e11-4f71-91e4-1c04e0749010",
   "metadata": {},
   "source": [
    "Data Science tools:\n",
    "\n",
    "<ol><li>apache spark</li><li>R studio</li><li>BigMl</li>\n"
   ]
  },
  {
   "cell_type": "markdown",
   "id": "f60ce52e-323f-40e3-99c5-a703d66871e9",
   "metadata": {
    "tags": []
   },
   "source": [
    "### Below are a few examples of evaluating arithmetic expression in Python"
   ]
  },
  {
   "cell_type": "code",
   "execution_count": 2,
   "id": "bece665c-ae37-4f6a-affb-6186d6e17542",
   "metadata": {
    "tags": []
   },
   "outputs": [
    {
     "data": {
      "text/plain": [
       "17"
      ]
     },
     "execution_count": 2,
     "metadata": {},
     "output_type": "execute_result"
    }
   ],
   "source": [
    " (3*4)+5"
   ]
  },
  {
   "cell_type": "code",
   "execution_count": 10,
   "id": "315e030f-30fd-44f7-a5a9-13fe41124973",
   "metadata": {
    "tags": []
   },
   "outputs": [
    {
     "data": {
      "text/plain": [
       "3.3333333333333335"
      ]
     },
     "execution_count": 10,
     "metadata": {},
     "output_type": "execute_result"
    }
   ],
   "source": [
    "# This will convert 200 minutes to hours by diving by 60\n",
    "200/60"
   ]
  },
  {
   "cell_type": "markdown",
   "id": "2cee6578-bd2e-435b-85d8-47a719dae531",
   "metadata": {},
   "source": [
    "**list popular languages for Data Science**\n",
    "<ul><li>R</li><li>Python</li><li>julia</li><li>SQL</li><li>Scala</li>"
   ]
  },
  {
   "cell_type": "markdown",
   "id": "509ff94b-28ea-467e-8d07-c763566898a2",
   "metadata": {
    "tags": []
   },
   "source": [
    "## Author\n",
    "Ahmed Emad Gamal"
   ]
  }
 ],
 "metadata": {
  "kernelspec": {
   "display_name": "Python",
   "language": "python",
   "name": "conda-env-python-py"
  },
  "language_info": {
   "codemirror_mode": {
    "name": "ipython",
    "version": 3
   },
   "file_extension": ".py",
   "mimetype": "text/x-python",
   "name": "python",
   "nbconvert_exporter": "python",
   "pygments_lexer": "ipython3",
   "version": "3.7.12"
  }
 },
 "nbformat": 4,
 "nbformat_minor": 5
}
